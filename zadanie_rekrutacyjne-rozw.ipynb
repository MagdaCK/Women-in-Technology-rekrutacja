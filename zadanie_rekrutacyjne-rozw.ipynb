{
 "cells": [
  {
   "cell_type": "markdown",
   "metadata": {},
   "source": [
    "**Seria warsztatów z analizy danych w Pythonie**\n",
    "\n",
    "_Zadanie rekrutacyjne_\n",
    "\n",
    "Napisz funkcję <code><font color=\"blue\">are_anagrams</font>(s1, s2, s3)</code>, która zwróci:\n",
    "\n",
    "* <code>True</code>, jeżeli łańcuchy znaków <code>s1, s2, s3</code> są anagramami,\n",
    "\n",
    "* <code>False</code>, jeżeli łańcuchy znaków <code>s1, s2, s3</code> nie są anagramami.\n",
    "\n",
    "Załóż, że maksymalna długość każdego z łańcuchów znaków jest równa **5**.\n",
    "\n",
    "Uzasadnij zaproponowane rozwiązanie, umieszczając komentarze w treści kodu."
   ]
  },
  {
   "cell_type": "code",
   "execution_count": 10,
   "metadata": {},
   "outputs": [],
   "source": [
    "def are_anagrams(s1, s2, s3):\n",
    "    # Wymyśliłam, że najlepiej będzie sprowadzić ten problem do mniejszego, tzn. sprawdzić czy dwa łańcuchy znaków są anagramami\n",
    "    # W tym celu napisałam funkcję are_2_anagrams(s1, s2)\n",
    "    # W moim oryginalnym pomyśle are_2_anagrams(s1, s2) była zdefiniowana przed are_anagrams(s1, s2, s3), a nie w jej ciele,\n",
    "    # wolałam jednak nie ryzykować dyskwalifikacji i umieściłam mój kod dokładnie w wyznaczonym miejscu :)\n",
    "    \n",
    "    def are_2_anagrams(s1, s2):\n",
    "        \n",
    "        # Fukcja sprawdza czy długość obu łańuchów jest równa, jeśli nie to zwraca False\n",
    "        if len(s1) != len(s2):\n",
    "            return False\n",
    "        \n",
    "        # Tworzę dwie listy na litery łańcuchów s1 i s2, i za pomocą pętli for wypełniam je\n",
    "        s1Chars = []\n",
    "        s2Chars = []\n",
    "    \n",
    "        for i in range(len(s1)):\n",
    "            s1Chars.append(s1[i])\n",
    "            s2Chars.append(s2[i])\n",
    "            \n",
    "        # Tworzę dwie posortowane listy z literami łańcuchów s1 i s2\n",
    "        s1CharsSort = sorted(s1Chars)\n",
    "        s2CharsSort = sorted(s2Chars)\n",
    "        \n",
    "        # Jeśli listy są jednakowe to zwracane jest True, jeśli są różne - False\n",
    "        if s1CharsSort == s2CharsSort:\n",
    "            return True\n",
    "        else:\n",
    "            return False\n",
    "        \n",
    "        # Wydaje mi się że mogłabym pominąć ten return, ale na wszelki wypadek go zostawiam\n",
    "        # gdyby doszło do jego wykonania to zwracam False, bo zakładam że taka sytuacja nie powinna mieć miejsca\n",
    "        return False\n",
    "\n",
    "    # używając funkcji are_2_anagrams sprawdzam czy s1 i s2 są anagramami\n",
    "    # Jeśli nie, to zwracany jest False, jeśli tak, to sprawdzane jest czy s1 i s3 są anagramami\n",
    "    # jeśli nie, to zwracany jest False, jesli tak, to zwracany jest True\n",
    "    if are_2_anagrams(s1, s2) == False:\n",
    "        return False\n",
    "    elif are_2_anagrams(s1, s3) == False:\n",
    "        return False\n",
    "    else:\n",
    "        return True\n",
    "    \n",
    "    # Wydaje mi się że mogłabym pominąć ten return, ale na wszelki wypadek go zostawiam\n",
    "    # gdyby doszło do jego wykonania to zwracam False, bo zakładam że taka sytuacja nie powinna mieć miejsca\n",
    "    return False\n",
    "\n",
    "# Uważam, że wprowadzenie funkcji are_2_anagrams(s1, s2) upraszcza program i chroni przed niepotrzebnym powtarzaniem kodu.\n",
    "# Pozwala również na stosunkowo łatwiejsze rozbudowanie go w przyszłości (np. dodanie większej ilości łańcuchów znaków)"
   ]
  }
 ],
 "metadata": {
  "celltoolbar": "Edit Metadata",
  "kernelspec": {
   "display_name": "Python 3",
   "language": "python",
   "name": "python3"
  },
  "language_info": {
   "codemirror_mode": {
    "name": "ipython",
    "version": 3
   },
   "file_extension": ".py",
   "mimetype": "text/x-python",
   "name": "python",
   "nbconvert_exporter": "python",
   "pygments_lexer": "ipython3",
   "version": "3.8.3"
  }
 },
 "nbformat": 4,
 "nbformat_minor": 2
}
